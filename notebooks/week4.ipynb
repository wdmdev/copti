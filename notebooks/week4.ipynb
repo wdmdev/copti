{
 "cells": [
  {
   "cell_type": "markdown",
   "metadata": {},
   "source": [
    "# Week 4 -Nonlinear Optimization and Optimization Frameworks"
   ]
  },
  {
   "cell_type": "markdown",
   "metadata": {},
   "source": [
    "## 1.a Solving Himmelblau Problem"
   ]
  },
  {
   "cell_type": "markdown",
   "metadata": {},
   "source": [
    "The Himmelblau Problem is defined as the following constrained optimization problem:\n",
    "\n",
    "$\\begin{array}{ll}\\min _{x_1, x_2} & f\\left(x_1, x_2\\right)=\\left(x_1^2+x_2-11\\right)^2+\\left(x_1+x_2^2-7\\right)^2 \\\\ \\text { s.t. } & c_1\\left(x_1, x_2\\right)=\\left(x_1+2\\right)^2-x_2 \\geq 0 \\\\ & c_2\\left(x_1, x_2\\right)=-4 x_1+10 x_2 \\geq 0\\end{array}$"
   ]
  },
  {
   "cell_type": "code",
   "execution_count": 1,
   "metadata": {},
   "outputs": [
    {
     "name": "stdout",
     "output_type": "stream",
     "text": [
      "Solution: [2.99999958 2.00000137]\n",
      "Objective value: 2.6851711499190163e-11\n",
      "Lagrange multipliers: [-1.39112804e-06 -4.00028564e-06]\n",
      "Time to solve: 0.027849674224853516 seconds\n",
      "Number of iterations: 18\n"
     ]
    },
    {
     "name": "stderr",
     "output_type": "stream",
     "text": [
      "/home/william/.cache/pypoetry/virtualenvs/copti-U-I_7R90-py3.10/lib/python3.10/site-packages/scipy/optimize/_differentiable_functions.py:504: UserWarning: delta_grad == 0.0. Check if the approximated function is linear. If the function is linear better results can be obtained by defining the Hessian as zero instead of using quasi-Newton approximations.\n",
      "  self.H.update(delta_x, delta_g)\n"
     ]
    }
   ],
   "source": [
    "import time\n",
    "import numpy as np\n",
    "from scipy.optimize import minimize\n",
    "\n",
    "# Objective function\n",
    "def objective(x):\n",
    "    return (x[0]**2 + x[1] - 11)**2 + (x[0] + x[1]**2 - 7)**2\n",
    "\n",
    "# Constraints\n",
    "def constraint1(x):\n",
    "    return (x[0] + 2)**2 - x[1]\n",
    "\n",
    "def constraint2(x):\n",
    "    return -4*x[0] + 10*x[1]\n",
    "\n",
    "# Initial guess\n",
    "x0 = [0, 0]\n",
    "\n",
    "# Define constraints dictionary\n",
    "cons = [{'type': 'ineq', 'fun': constraint1},\n",
    "        {'type': 'ineq', 'fun': constraint2}]\n",
    "\n",
    "# Solve the problem\n",
    "start = time.time()\n",
    "solution = minimize(objective, x0, method='trust-constr', constraints=cons)\n",
    "end = time.time()\n",
    "\n",
    "# Print solution and objective value\n",
    "print(f\"Solution: {solution.x}\")\n",
    "print(f\"Objective value: {solution.fun}\")\n",
    "\n",
    "# Print Lagrange multipliers\n",
    "# The 'v' attribute of 'solution.optimality' contains the Lagrange multipliers\n",
    "\"\"\"\n",
    "From scipy documentation:\n",
    "v is a list of the Lagrange multipliers for the constraints at the solution. \n",
    "For an inequality constraint a positive multiplier means that the upper bound is active, \n",
    "a negative multiplier means that the lower bound is active and if a multiplier is zero \n",
    "it means the constraint is not active.\n",
    "\"\"\"\n",
    "if 'v' in solution:\n",
    "    print(f\"Lagrange multipliers: {np.concatenate(solution['v']).flatten()}\")\n",
    "else:\n",
    "    print(\"Lagrange multipliers not available.\")\n",
    "\n",
    "print(f\"Time to solve: {end-start} seconds\")\n",
    "print(f\"Number of iterations: {solution.nit}\")"
   ]
  },
  {
   "cell_type": "markdown",
   "metadata": {},
   "source": [
    "If we provide the gradient beforehand"
   ]
  },
  {
   "cell_type": "code",
   "execution_count": 2,
   "metadata": {},
   "outputs": [
    {
     "name": "stdout",
     "output_type": "stream",
     "text": [
      "Solution: [2.9999996  2.00000137]\n",
      "Objective value: 2.686790502061284e-11\n",
      "Lagrange multipliers: [-1.39112802e-06 -4.00028569e-06]\n",
      "Time to solve: 0.034470558166503906 seconds\n",
      "Number of iterations: 18\n"
     ]
    }
   ],
   "source": [
    "import time\n",
    "import numpy as np\n",
    "from scipy.optimize import minimize\n",
    "\n",
    "# Objective function\n",
    "def objective(x):\n",
    "    return (x[0]**2 + x[1] - 11)**2 + (x[0] + x[1]**2 - 7)**2\n",
    "\n",
    "# Gradient of the objective function\n",
    "def grad(x):\n",
    "    return np.array([4*x[0]*(x[0]**2 + x[1] - 11) + 2*(x[0] + x[1]**2 - 7),\n",
    "                     2*(x[0]**2 + x[1] - 11) + 4*x[1]*(x[0] + x[1]**2 - 7)])\n",
    "\n",
    "# Constraints\n",
    "def constraint1(x):\n",
    "    return (x[0] + 2)**2 - x[1]\n",
    "\n",
    "def constraint2(x):\n",
    "    return -4*x[0] + 10*x[1]\n",
    "\n",
    "# Initial guess\n",
    "x0 = [0, 0]\n",
    "\n",
    "# Define constraints dictionary\n",
    "cons = [{'type': 'ineq', 'fun': constraint1},\n",
    "        {'type': 'ineq', 'fun': constraint2}]\n",
    "\n",
    "# Solve the problem\n",
    "start = time.time()\n",
    "solution = minimize(objective, x0, method='trust-constr', constraints=cons, jac=grad)\n",
    "end = time.time()\n",
    "\n",
    "# Print solution and objective value\n",
    "print(f\"Solution: {solution.x}\")\n",
    "print(f\"Objective value: {solution.fun}\")\n",
    "\n",
    "# Print Lagrange multipliers\n",
    "# The 'v' attribute of 'solution.optimality' contains the Lagrange multipliers\n",
    "\"\"\"\n",
    "From scipy documentation:\n",
    "v is a list of the Lagrange multipliers for the constraints at the solution. \n",
    "For an inequality constraint a positive multiplier means that the upper bound is active, \n",
    "a negative multiplier means that the lower bound is active and if a multiplier is zero \n",
    "it means the constraint is not active.\n",
    "\"\"\"\n",
    "if 'v' in solution:\n",
    "    print(f\"Lagrange multipliers: {np.concatenate(solution['v']).flatten()}\")\n",
    "else:\n",
    "    print(\"Lagrange multipliers not available.\")\n",
    "\n",
    "print(f\"Time to solve: {end-start} seconds\")\n",
    "print(f\"Number of iterations: {solution.nit}\")"
   ]
  },
  {
   "cell_type": "markdown",
   "metadata": {},
   "source": [
    "Now let's also provide the hessian"
   ]
  },
  {
   "cell_type": "code",
   "execution_count": 3,
   "metadata": {},
   "outputs": [
    {
     "name": "stdout",
     "output_type": "stream",
     "text": [
      "Solution: [2.9999996  2.00000137]\n",
      "Objective value: 2.6863266065252152e-11\n",
      "Lagrange multipliers: [-1.39130629e-06 -4.00007246e-06]\n",
      "Time to solve: 0.0377812385559082 seconds\n",
      "Number of iterations: 18\n"
     ]
    }
   ],
   "source": [
    "import time\n",
    "import numpy as np\n",
    "from scipy.optimize import minimize\n",
    "\n",
    "# Objective function\n",
    "def objective(x):\n",
    "    return (x[0]**2 + x[1] - 11)**2 + (x[0] + x[1]**2 - 7)**2\n",
    "\n",
    "# Gradient of the objective function\n",
    "def grad(x):\n",
    "    return np.array([4*x[0]*(x[0]**2 + x[1] - 11) + 2*(x[0] + x[1]**2 - 7),\n",
    "                     2*(x[0]**2 + x[1] - 11) + 4*x[1]*(x[0] + x[1]**2 - 7)])\n",
    "\n",
    "# Hessian of the objective function\n",
    "def hess(x):\n",
    "    return np.array([[12*x[0]**2 + 4*x[1] - 42, 4*x[0] + 4*x[1]],\n",
    "                     [4*x[0] + 4*x[1], 4*x[0] + 12*x[1]**2 - 26]])\n",
    "\n",
    "\n",
    "# Constraints\n",
    "def constraint1(x):\n",
    "    return (x[0] + 2)**2 - x[1]\n",
    "\n",
    "def constraint2(x):\n",
    "    return -4*x[0] + 10*x[1]\n",
    "\n",
    "# Initial guess\n",
    "x0 = [0, 0]\n",
    "\n",
    "# Define constraints dictionary\n",
    "cons = [{'type': 'ineq', 'fun': constraint1},\n",
    "        {'type': 'ineq', 'fun': constraint2}]\n",
    "\n",
    "# Solve the problem\n",
    "start = time.time()\n",
    "solution = minimize(objective, x0, method='trust-constr', constraints=cons, jac=grad, hess=hess)\n",
    "end = time.time()\n",
    "\n",
    "# Print solution and objective value\n",
    "print(f\"Solution: {solution.x}\")\n",
    "print(f\"Objective value: {solution.fun}\")\n",
    "\n",
    "# Print Lagrange multipliers\n",
    "# The 'v' attribute of 'solution.optimality' contains the Lagrange multipliers\n",
    "\"\"\"\n",
    "From scipy documentation:\n",
    "v is a list of the Lagrange multipliers for the constraints at the solution. \n",
    "For an inequality constraint a positive multiplier means that the upper bound is active, \n",
    "a negative multiplier means that the lower bound is active and if a multiplier is zero \n",
    "it means the constraint is not active.\n",
    "\"\"\"\n",
    "if 'v' in solution:\n",
    "    print(f\"Lagrange multipliers: {np.concatenate(solution['v']).flatten()}\")\n",
    "else:\n",
    "    print(\"Lagrange multipliers not available.\")\n",
    "\n",
    "print(f\"Time to solve: {end-start} seconds\")\n",
    "print(f\"Number of iterations: {solution.nit}\")"
   ]
  },
  {
   "cell_type": "markdown",
   "metadata": {},
   "source": [
    "Let's look at different tolerance levels"
   ]
  },
  {
   "cell_type": "code",
   "execution_count": 8,
   "metadata": {},
   "outputs": [
    {
     "name": "stdout",
     "output_type": "stream",
     "text": [
      "Tolerance: 0.1\n",
      "Solution: [2.99883059 2.00408784]\n",
      "Lagrange multipliers: [-0.00436121 -0.01217983]\n",
      "Tolerance: 0.001\n",
      "Solution: [2.99974622 2.00087144]\n",
      "Lagrange multipliers: [-0.00087023 -0.00252451]\n",
      "Tolerance: 1e-06\n",
      "Solution: [2.99999003 2.00003428]\n",
      "Lagrange multipliers: [-3.47838316e-05 -1.00045770e-04]\n",
      "Tolerance: 1e-09\n",
      "Solution: [2.9999996  2.00000137]\n",
      "Lagrange multipliers: [-1.39130629e-06 -4.00007246e-06]\n"
     ]
    },
    {
     "data": {
      "image/png": "[encoded data removed]",
      "text/plain": [
       "<Figure size 640x480 with 1 Axes>"
      ]
     },
     "metadata": {},
     "output_type": "display_data"
    }
   ],
   "source": [
    "import time\n",
    "import numpy as np\n",
    "from scipy.optimize import minimize\n",
    "import matplotlib.pyplot as plt\n",
    "\n",
    "# Objective function\n",
    "def objective(x):\n",
    "    return (x[0]**2 + x[1] - 11)**2 + (x[0] + x[1]**2 - 7)**2\n",
    "\n",
    "# Gradient of the objective function\n",
    "def grad(x):\n",
    "    return np.array([4*x[0]*(x[0]**2 + x[1] - 11) + 2*(x[0] + x[1]**2 - 7),\n",
    "                     2*(x[0]**2 + x[1] - 11) + 4*x[1]*(x[0] + x[1]**2 - 7)])\n",
    "\n",
    "# Hessian of the objective function\n",
    "def hess(x):\n",
    "    return np.array([[12*x[0]**2 + 4*x[1] - 42, 4*x[0] + 4*x[1]],\n",
    "                     [4*x[0] + 4*x[1], 4*x[0] + 12*x[1]**2 - 26]])\n",
    "\n",
    "\n",
    "# Constraints\n",
    "def constraint1(x):\n",
    "    return (x[0] + 2)**2 - x[1]\n",
    "\n",
    "def constraint2(x):\n",
    "    return -4*x[0] + 10*x[1]\n",
    "\n",
    "# Initial guess\n",
    "x0 = [0, 0]\n",
    "\n",
    "# Define constraints dictionary\n",
    "cons = [{'type': 'ineq', 'fun': constraint1},\n",
    "        {'type': 'ineq', 'fun': constraint2}]\n",
    "\n",
    "# Solve the problem for different tolerance values and plot the number of iterations and the time to solve\n",
    "for tol in [1e-1, 1e-3, 1e-6, 1e-9]:\n",
    "    start = time.time()\n",
    "    solution = minimize(objective, x0, method='trust-constr', constraints=cons, jac=grad, hess=hess, tol=tol)\n",
    "    end = time.time()\n",
    "\n",
    "    print(f\"Tolerance: {tol}\")\n",
    "    print(f\"Solution: {solution.x}\")\n",
    "    if 'v' in solution:\n",
    "        print(f\"Lagrange multipliers: {np.concatenate(solution['v']).flatten()}\")\n",
    "\n",
    "    plt.plot(tol, solution.nit, 'bo')\n",
    "    plt.plot(tol, end-start, 'ro')\n",
    "\n",
    "plt.xscale('log')\n",
    "plt.xlabel('Tolerance')\n",
    "plt.ylabel('Number of iterations (blue) / Time to solve (red)')\n",
    "plt.show()"
   ]
  },
  {
   "cell_type": "markdown",
   "metadata": {},
   "source": [
    "We see that increasing the tolerance significantly decreases the number of iterations.\n",
    "\n",
    "The solutions are still similar.\n",
    "\n",
    "However the Lagrange multipliers very a lot."
   ]
  },
  {
   "cell_type": "markdown",
   "metadata": {},
   "source": [
    "Let's look at the time and number of iterations for the different minimization methods"
   ]
  },
  {
   "cell_type": "code",
   "execution_count": 23,
   "metadata": {},
   "outputs": [
    {
     "name": "stdout",
     "output_type": "stream",
     "text": [
      "          Method  Iterations      Time  \\\n",
      "1         Powell           7  0.008744   \n",
      "10   trust-exact           7  0.002387   \n",
      "4      Newton-CG           8  0.002552   \n",
      "2             CG           9  0.004165   \n",
      "6            TNC           9  0.002869   \n",
      "9      trust-ncg           9  0.001603   \n",
      "11  trust-krylov           9  0.002971   \n",
      "3           BFGS          10  0.003203   \n",
      "5       L-BFGS-B          10  0.002136   \n",
      "7          SLSQP          10  0.008243   \n",
      "8   trust-constr          18  0.043626   \n",
      "0    Nelder-Mead          81  0.006494   \n",
      "\n",
      "                                    Solution  \n",
      "1                                 [3.0, 2.0]  \n",
      "10  [2.9999998849232234, 2.0000005205534865]  \n",
      "4     [2.9999999999998805, 2.00000000000055]  \n",
      "2      [2.9999999267768, 1.9999999915190705]  \n",
      "6     [2.999999400598609, 2.000000856932965]  \n",
      "9   [2.9999999129285158, 2.0000003701500466]  \n",
      "11   [2.9999998453658803, 2.000000708961311]  \n",
      "3   [2.9999999477827064, 1.9999999956937438]  \n",
      "5   [2.9999999970623645, 1.9999999762721052]  \n",
      "7    [3.000019989332023, 2.0000457741975017]  \n",
      "8    [2.999999601531166, 2.0000013699800347]  \n",
      "0    [3.000006324938478, 1.9999685321027905]  \n"
     ]
    },
    {
     "data": {
      "image/png": "[encoded data removed]",
      "text/plain": [
       "<Figure size 1500x500 with 1 Axes>"
      ]
     },
     "metadata": {},
     "output_type": "display_data"
    }
   ],
   "source": [
    "import time\n",
    "import numpy as np\n",
    "from scipy.optimize import minimize\n",
    "import matplotlib.pyplot as plt\n",
    "import pandas as pd\n",
    "\n",
    "#suppress warnings\n",
    "import warnings\n",
    "warnings.filterwarnings(\"ignore\")\n",
    "\n",
    "# Objective function\n",
    "def objective(x):\n",
    "    return (x[0]**2 + x[1] - 11)**2 + (x[0] + x[1]**2 - 7)**2\n",
    "\n",
    "# Gradient of the objective function\n",
    "def grad(x):\n",
    "    return np.array([4*x[0]*(x[0]**2 + x[1] - 11) + 2*(x[0] + x[1]**2 - 7),\n",
    "                     2*(x[0]**2 + x[1] - 11) + 4*x[1]*(x[0] + x[1]**2 - 7)])\n",
    "\n",
    "# Hessian of the objective function\n",
    "def hess(x):\n",
    "    return np.array([[12*x[0]**2 + 4*x[1] - 42, 4*x[0] + 4*x[1]],\n",
    "                     [4*x[0] + 4*x[1], 4*x[0] + 12*x[1]**2 - 26]])\n",
    "\n",
    "\n",
    "# Constraints\n",
    "def constraint1(x):\n",
    "    return (x[0] + 2)**2 - x[1]\n",
    "\n",
    "def constraint2(x):\n",
    "    return -4*x[0] + 10*x[1]\n",
    "\n",
    "# Initial guess\n",
    "x0 = [0, 0]\n",
    "\n",
    "# Define constraints dictionary\n",
    "cons = [{'type': 'ineq', 'fun': constraint1},\n",
    "        {'type': 'ineq', 'fun': constraint2}]\n",
    "\n",
    "# Solve the problem for optimization methods and plot the number of iterations and the time to solve\n",
    "solvers = [\n",
    "    'Nelder-Mead',\n",
    "    'Powell',\n",
    "    'CG',\n",
    "    'BFGS',\n",
    "    'Newton-CG',\n",
    "    'L-BFGS-B',\n",
    "    'TNC',\n",
    "    'COBYLA',\n",
    "    'SLSQP',\n",
    "    'trust-constr',\n",
    "    'trust-ncg',\n",
    "    'trust-exact',\n",
    "    'trust-krylov'\n",
    "]\n",
    "\n",
    "\n",
    "plt.figure(figsize=(15, 5))\n",
    "results = {'Method': [], 'Iterations': [], 'Time': [], 'Solution': []}\n",
    "for method in solvers:\n",
    "    start = time.time()\n",
    "    solution = minimize(objective, x0, method=method, constraints=cons, jac=grad, hess=hess)\n",
    "    end = time.time()\n",
    "\n",
    "    if 'nit' in solution:\n",
    "        results['Method'].append(method)\n",
    "        results['Iterations'].append(solution.nit)\n",
    "        results['Time'].append(end-start)\n",
    "        results['Solution'].append(solution.x)\n",
    "\n",
    "        #plot as bar chart\n",
    "        plt.bar(method, solution.nit, color='blue')\n",
    "\n",
    "df = pd.DataFrame(results)\n",
    "df = df.sort_values(by='Iterations')\n",
    "print(df)\n",
    "\n",
    "plt.xlabel('Method')\n",
    "plt.ylabel('Number of iterations')\n",
    "plt.tight_layout()\n",
    "plt.show()"
   ]
  },
  {
   "cell_type": "markdown",
   "metadata": {},
   "source": [
    "## Quadprog"
   ]
  },
  {
   "cell_type": "markdown",
   "metadata": {},
   "source": [
    "We consider the problem:\n",
    "\n",
    "Objective: Minimize the quadratic function $f(x)=\\frac{1}{2} x^T H x+g^T x$\n",
    "\n",
    "Constraints: Subject to $A x \\leq b$\n",
    "\n",
    "- Where:\n",
    "\\begin{align*}\n",
    "\\begin{aligned}\n",
    "& H=\\left[\\begin{array}{ll}\n",
    "2 & 1 \\\\\n",
    "1 & 2\n",
    "\\end{array}\\right], \\\\\n",
    "& g=\\left[\\begin{array}{l}\n",
    "-2 \\\\\n",
    "-5\n",
    "\\end{array}\\right], \\\\\n",
    "& A=\\left[\\begin{array}{cc}\n",
    "1 & 2 \\\\\n",
    "1 & -4 \\\\\n",
    "-5 & -1\n",
    "\\end{array}\\right], \\\\\n",
    "& b=\\left[\\begin{array}{l}\n",
    "-2 \\\\\n",
    "-3 \\\\\n",
    "-2\n",
    "\\end{array}\\right] .\n",
    "\\end{aligned}\n",
    "\\end{align*}"
   ]
  },
  {
   "cell_type": "code",
   "execution_count": 35,
   "metadata": {},
   "outputs": [
    {
     "data": {
      "text/plain": [
       "           message: `gtol` termination condition is satisfied.\n",
       "           success: True\n",
       "            status: 1\n",
       "               fun: -3.6187276426708492\n",
       "                 x: [ 2.380e-01  8.094e-01]\n",
       "               nit: 14\n",
       "              nfev: 30\n",
       "              njev: 10\n",
       "              nhev: 0\n",
       "          cg_niter: 10\n",
       "      cg_stop_cond: 1\n",
       "              grad: [-7.146e-01 -3.143e+00]\n",
       "   lagrangian_grad: [-7.405e-14 -5.049e-13]\n",
       "            constr: [array([ 3.857e+00,  2.240e-04,  5.599e-04])]\n",
       "               jac: [array([[ 1.000e+00,  2.000e+00],\n",
       "                           [ 1.000e+00, -4.000e+00],\n",
       "                           [-5.000e+00, -1.000e+00]])]\n",
       "       constr_nfev: [30]\n",
       "       constr_njev: [0]\n",
       "       constr_nhev: [0]\n",
       "                 v: [array([-4.148e-05, -7.144e-01, -2.858e-01])]\n",
       "            method: tr_interior_point\n",
       "        optimality: 5.049294315995212e-13\n",
       "  constr_violation: 0.0\n",
       "    execution_time: 0.05204033851623535\n",
       "         tr_radius: 4486.286225995907\n",
       "    constr_penalty: 1.0\n",
       " barrier_parameter: 0.00016000000000000007\n",
       " barrier_tolerance: 0.00016000000000000007\n",
       "             niter: 14"
      ]
     },
     "execution_count": 35,
     "metadata": {},
     "output_type": "execute_result"
    }
   ],
   "source": [
    "from scipy.optimize import minimize\n",
    "\n",
    "H = np.array([[2,1], \n",
    "              [1, 2]])\n",
    "\n",
    "g = np.array([[-2],\n",
    "              [-5]])\n",
    "\n",
    "A = np.array([[1, 2],\n",
    "              [1, -4],\n",
    "              [-5, -1]])\n",
    "\n",
    "b = np.array([[-2],\n",
    "              [-3],\n",
    "              [-2]])\n",
    "\n",
    "# Objective function\n",
    "def f(x):\n",
    "    return 0.5 * x.T @ H @ x + g.T @ x\n",
    "\n",
    "x0 = np.array([0, 0])\n",
    "\n",
    "# Solve the problem\n",
    "solution = minimize(f, x0, method=\"trust-constr\", constraints={'type': 'ineq', 'fun': lambda x: A @ x - b.reshape(-1)})\n",
    "solution"
   ]
  },
  {
   "cell_type": "markdown",
   "metadata": {},
   "source": [
    "## Linprog"
   ]
  },
  {
   "cell_type": "markdown",
   "metadata": {},
   "source": [
    "We consider the problem:\n",
    "\n",
    "\\begin{array}{ll}\n",
    "\\min _{x_1, x_2} & f\\left(x_1, x_2\\right)=-\\frac{x_1+x_2}{3} \\\\\n",
    "\\text { s.t. } & x_1+x_2 \\leq 2 \\\\\n",
    "& x_1+\\frac{x_2}{4} \\leq 1 \\\\\n",
    "& x_1-x_2 \\leq 2 \\\\\n",
    "& -\\frac{x_1}{4}-x_2 \\leq 1 \\\\\n",
    "& -x_1-x_2 \\leq-1 \\\\\n",
    "& -x_1+x_2 \\leq 2\n",
    "\\end{array}"
   ]
  },
  {
   "cell_type": "code",
   "execution_count": 38,
   "metadata": {},
   "outputs": [
    {
     "data": {
      "text/plain": [
       "        message: Optimization terminated successfully. (HiGHS Status 7: Optimal)\n",
       "        success: True\n",
       "         status: 0\n",
       "            fun: -1.1111111111111112\n",
       "              x: [ 6.667e-01  1.333e+00]\n",
       "            nit: 2\n",
       "          lower:  residual: [ 6.667e-01  1.333e+00]\n",
       "                 marginals: [ 0.000e+00  0.000e+00]\n",
       "          upper:  residual: [       inf        inf]\n",
       "                 marginals: [ 0.000e+00  0.000e+00]\n",
       "          eqlin:  residual: []\n",
       "                 marginals: []\n",
       "        ineqlin:  residual: [ 0.000e+00  0.000e+00  2.667e+00  2.500e+00\n",
       "                              1.000e+00  1.333e+00]\n",
       "                 marginals: [-1.111e-01 -8.889e-01 -0.000e+00 -0.000e+00\n",
       "                             -0.000e+00 -0.000e+00]\n",
       " mip_node_count: 0\n",
       " mip_dual_bound: 0.0\n",
       "        mip_gap: 0.0"
      ]
     },
     "execution_count": 38,
     "metadata": {},
     "output_type": "execute_result"
    }
   ],
   "source": [
    "import numpy as np\n",
    "from scipy.optimize import linprog\n",
    "\n",
    "c = np.array([-1, -1/3])\n",
    "\n",
    "# Define the A matrix for constraints\n",
    "A = np.array([\n",
    "    [1, 1],     # x1 + x2 <= 2\n",
    "    [1, 0.25],  # x1 + x2/4 <= 1\n",
    "    [1, -1],    # x1 - x2 <= 2\n",
    "    [-0.25, -1],# -x1/4 - x2 <= 1\n",
    "    [-1, -1],   # -x1 - x2 <= -1\n",
    "    [-1, 1]     # -x1 + x2 <= 2\n",
    "])\n",
    "\n",
    "# Define the b vector for constraints\n",
    "b = np.array([2, 1, 2, 1, -1, 2])\n",
    "\n",
    "x0 = np.array([0, 0])\n",
    "\n",
    "solution = linprog(c, A_ub=A, b_ub=b)\n",
    "solution"
   ]
  },
  {
   "cell_type": "code",
   "execution_count": 39,
   "metadata": {},
   "outputs": [
    {
     "data": {
      "text/plain": [
       "        message: Optimization terminated successfully. (HiGHS Status 7: Optimal)\n",
       "        success: True\n",
       "         status: 0\n",
       "            fun: -78.0\n",
       "              x: [ 0.000e+00  1.500e+01  3.000e+00]\n",
       "            nit: 2\n",
       "          lower:  residual: [ 0.000e+00  1.500e+01  3.000e+00]\n",
       "                 marginals: [ 1.000e+00  0.000e+00  0.000e+00]\n",
       "          upper:  residual: [       inf        inf        inf]\n",
       "                 marginals: [ 0.000e+00  0.000e+00  0.000e+00]\n",
       "          eqlin:  residual: []\n",
       "                 marginals: []\n",
       "        ineqlin:  residual: [ 3.200e+01  0.000e+00  0.000e+00]\n",
       "                 marginals: [-0.000e+00 -1.500e+00 -5.000e-01]\n",
       " mip_node_count: 0\n",
       " mip_dual_bound: 0.0\n",
       "        mip_gap: 0.0"
      ]
     },
     "execution_count": 39,
     "metadata": {},
     "output_type": "execute_result"
    }
   ],
   "source": [
    "import numpy as np\n",
    "from scipy.optimize import linprog\n",
    "\n",
    "c = np.array([-5, -4, -6])\n",
    "\n",
    "A = np.array([[1, -1, 1],\n",
    "            [3, 2, 4],\n",
    "            [3, 2, 0]])\n",
    "\n",
    "b = np.array([20, 42, 30])\n",
    "\n",
    "solution = linprog(c=c, A_ub=A, b_ub=b, bounds=[(0, None), (0, None), (0, None)])\n",
    "solution"
   ]
  },
  {
   "cell_type": "markdown",
   "metadata": {},
   "source": [
    "We see the Lagrange Multipliers as the `marginals` for the `eqlin` and `ineqlin`"
   ]
  },
  {
   "cell_type": "markdown",
   "metadata": {},
   "source": []
  }
 ],
 "metadata": {
  "kernelspec": {
   "display_name": "copti-U-I_7R90-py3.10",
   "language": "python",
   "name": "python3"
  },
  "language_info": {
   "codemirror_mode": {
    "name": "ipython",
    "version": 3
   },
   "file_extension": ".py",
   "mimetype": "text/x-python",
   "name": "python",
   "nbconvert_exporter": "python",
   "pygments_lexer": "ipython3",
   "version": "3.10.8"
  }
 },
 "nbformat": 4,
 "nbformat_minor": 2
}
