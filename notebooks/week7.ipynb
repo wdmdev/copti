{
 "cells": [
  {
   "cell_type": "markdown",
   "metadata": {},
   "source": [
    "# Week 7 - Linear Programming"
   ]
  },
  {
   "cell_type": "markdown",
   "metadata": {},
   "source": [
    "## Problem 1 - Revised Simplex Algorithm"
   ]
  },
  {
   "cell_type": "markdown",
   "metadata": {},
   "source": [
    "### 1.1 - Implement Revised Simplex Algorithm\n",
    "Implement the revised simplex algorithm in python for the standard LP.\n",
    "See implementation in `src.copti.lp.active_set.revised_simplex.py:solve`"
   ]
  },
  {
   "cell_type": "markdown",
   "metadata": {},
   "source": [
    "### 1.2 - Test Implementation\n",
    "Test your implementation of the revised simplex algorithm"
   ]
  },
  {
   "cell_type": "code",
   "execution_count": 2,
   "metadata": {},
   "outputs": [
    {
     "ename": "ValueError",
     "evalue": "matmul: Input operand 1 has a mismatch in its core dimension 0, with gufunc signature (n?,k),(k,m?)->(n?,m?) (size 2 is different from 0)",
     "output_type": "error",
     "traceback": [
      "\u001b[0;31m---------------------------------------------------------------------------\u001b[0m",
      "\u001b[0;31mValueError\u001b[0m                                Traceback (most recent call last)",
      "Cell \u001b[0;32mIn[2], line 12\u001b[0m\n\u001b[1;32m      9\u001b[0m x0, N, B \u001b[38;5;241m=\u001b[39m lp\u001b[38;5;241m.\u001b[39mactive_set\u001b[38;5;241m.\u001b[39mrevised_simplex\u001b[38;5;241m.\u001b[39mfind_feasible_solution(A, b)\n\u001b[1;32m     11\u001b[0m \u001b[38;5;66;03m# Solve the LP problem using the revised simplex method\u001b[39;00m\n\u001b[0;32m---> 12\u001b[0m x_sol, is_optimal \u001b[38;5;241m=\u001b[39m \u001b[43mlp\u001b[49m\u001b[38;5;241;43m.\u001b[39;49m\u001b[43mactive_set\u001b[49m\u001b[38;5;241;43m.\u001b[39;49m\u001b[43mrevised_simplex\u001b[49m\u001b[38;5;241;43m.\u001b[39;49m\u001b[43msolve\u001b[49m\u001b[43m(\u001b[49m\u001b[43mx0\u001b[49m\u001b[43m,\u001b[49m\u001b[43m \u001b[49m\u001b[43mA\u001b[49m\u001b[43m,\u001b[49m\u001b[43m \u001b[49m\u001b[43mg\u001b[49m\u001b[43m,\u001b[49m\u001b[43m \u001b[49m\u001b[43mB\u001b[49m\u001b[43m,\u001b[49m\u001b[43m \u001b[49m\u001b[43mN\u001b[49m\u001b[43m)\u001b[49m\n\u001b[1;32m     13\u001b[0m \u001b[38;5;28mprint\u001b[39m(\u001b[38;5;124mf\u001b[39m\u001b[38;5;124m\"\u001b[39m\u001b[38;5;124mx_sol = \u001b[39m\u001b[38;5;132;01m{\u001b[39;00mx_sol\u001b[38;5;132;01m}\u001b[39;00m\u001b[38;5;124m\"\u001b[39m)\n\u001b[1;32m     14\u001b[0m \u001b[38;5;28mprint\u001b[39m(\u001b[38;5;124mf\u001b[39m\u001b[38;5;124m\"\u001b[39m\u001b[38;5;124mIs optimal = \u001b[39m\u001b[38;5;132;01m{\u001b[39;00mis_optimal\u001b[38;5;132;01m}\u001b[39;00m\u001b[38;5;124m\"\u001b[39m)\n",
      "File \u001b[0;32m~/Documents/DTUCourses/copti/src/copti/lp/active_set/revised_simplex.py:101\u001b[0m, in \u001b[0;36msolve\u001b[0;34m(x0, A, g, B, N)\u001b[0m\n\u001b[1;32m     98\u001b[0m mu \u001b[38;5;241m=\u001b[39m np\u001b[38;5;241m.\u001b[39mlinalg\u001b[38;5;241m.\u001b[39msolve(B_matrix, gB)\n\u001b[1;32m    100\u001b[0m \u001b[38;5;66;03m# Compute: lambda_ = gN - N_matrix*mu\u001b[39;00m\n\u001b[0;32m--> 101\u001b[0m lambda_ \u001b[38;5;241m=\u001b[39m gN \u001b[38;5;241m-\u001b[39m \u001b[43mN_matrix\u001b[49m\u001b[43m \u001b[49m\u001b[38;5;241;43m@\u001b[39;49m\u001b[43m \u001b[49m\u001b[43mmu\u001b[49m\n\u001b[1;32m    103\u001b[0m \u001b[38;5;66;03m# Optimality condition\u001b[39;00m\n\u001b[1;32m    104\u001b[0m \u001b[38;5;28;01mif\u001b[39;00m np\u001b[38;5;241m.\u001b[39mall(lambda_ \u001b[38;5;241m>\u001b[39m\u001b[38;5;241m=\u001b[39m \u001b[38;5;241m0\u001b[39m):\n",
      "\u001b[0;31mValueError\u001b[0m: matmul: Input operand 1 has a mismatch in its core dimension 0, with gufunc signature (n?,k),(k,m?)->(n?,m?) (size 2 is different from 0)"
     ]
    }
   ],
   "source": [
    "from copti import lp, data\n",
    "\n",
    "# Create a new LP problem\n",
    "seed = 51\n",
    "m, n = 2, 2\n",
    "A, b, g, x, lambda_, s = data.lp.random_lp_problem(m, n, seed)\n",
    "\n",
    "# Find an initial feasible solution \n",
    "x0, N, B = lp.active_set.revised_simplex.find_feasible_solution(A, b)\n",
    "\n",
    "# Solve the LP problem using the revised simplex method\n",
    "x_sol, is_optimal = lp.active_set.revised_simplex.solve(x0, A, g, B, N)\n",
    "print(f\"x_sol = {x_sol}\")\n",
    "print(f\"Is optimal = {is_optimal}\")"
   ]
  },
  {
   "cell_type": "code",
   "execution_count": null,
   "metadata": {},
   "outputs": [],
   "source": []
  }
 ],
 "metadata": {
  "kernelspec": {
   "display_name": "copti-U-I_7R90-py3.10",
   "language": "python",
   "name": "python3"
  },
  "language_info": {
   "codemirror_mode": {
    "name": "ipython",
    "version": 3
   },
   "file_extension": ".py",
   "mimetype": "text/x-python",
   "name": "python",
   "nbconvert_exporter": "python",
   "pygments_lexer": "ipython3",
   "version": "3.10.8"
  }
 },
 "nbformat": 4,
 "nbformat_minor": 2
}
